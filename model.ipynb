{
 "cells": [
  {
   "cell_type": "code",
   "execution_count": 7,
   "metadata": {},
   "outputs": [
    {
     "name": "stdout",
     "output_type": "stream",
     "text": [
      "Empty DataFrame\n",
      "Columns: [venue, config, surface, distance, going, race_class]\n",
      "Index: []\n",
      "        venue config  surface  distance         going  race_class\n",
      "race_id                                                          \n",
      "0          ST      A        0      1400  GOOD TO FIRM           5\n",
      "1          ST      A        0      1200  GOOD TO FIRM           5\n",
      "2          ST      A        0      1400  GOOD TO FIRM           4\n",
      "3          ST      A        0      1200  GOOD TO FIRM           1\n",
      "4          ST      A        0      1600  GOOD TO FIRM           4\n",
      "...       ...    ...      ...       ...           ...         ...\n",
      "6344       ST      A        0      1400          GOOD           1\n",
      "6345       ST      A        0      1600          GOOD          11\n",
      "6346       ST      A        0      2000          GOOD          11\n",
      "6347       ST      A        0      1200          GOOD           2\n",
      "6348       ST      A        0      1600          GOOD           2\n",
      "\n",
      "[6349 rows x 6 columns]\n"
     ]
    }
   ],
   "source": [
    "# Import necessary libraries\n",
    "import pandas as pd\n",
    "import numpy as np\n",
    "import tensorflow as tf\n",
    "import sklearn.preprocessing as preprocessing\n",
    "import sklearn.model_selection as model_selection\n",
    "import matplotlib.pyplot as plt\n",
    "\n",
    "# Create DataFrame from data obtained from Kaggle\n",
    "races_df = pd.read_csv(r\"races.csv\", delimiter=\",\", header=0, index_col='race_id')\n",
    "races_df = races_df[['venue', 'config', 'surface', 'distance', 'going', 'race_class']]\n",
    "\n",
    "# Remove any NaN results in the data\n",
    "print(races_df[races_df.isnull().any(axis=1)])\n",
    "races_df = races_df.dropna()"
   ]
  },
  {
   "cell_type": "code",
   "execution_count": 9,
   "metadata": {},
   "outputs": [],
   "source": [
    "# For the columns that are strings, change them to numbers, so the model can appropriately be trained\n",
    "\n",
    "config_encoder = preprocessing.OrdinalEncoder()\n",
    "races_df['config'] = config_encoder.fit_transform(races_df['config'].values.reshape(-1, 1))\n",
    "going_encoder = preprocessing.OrdinalEncoder()\n",
    "races_df['going'] = going_encoder.fit_transform(races_df['going'].values.reshape(-1, 1))\n",
    "venue_encoder = preprocessing.LabelEncoder()\n",
    "races_df['venue'] = venue_encoder.fit_transform(races_df['venue'])"
   ]
  },
  {
   "cell_type": "code",
   "execution_count": null,
   "metadata": {},
   "outputs": [],
   "source": [
    "# Essentially do the same as above, but with the runs.csv\n",
    "\n",
    "# Create DataFrame from data obtained from Kaggle\n",
    "runs_df = pd.read_csv(r\"runs.csv\", delimiter=\",\", header=0)\n",
    "runs_df = runs_df[['race_id', 'draw', 'horse_age', 'horse_country', 'horse_type', 'horse_rating', 'declared_weight', 'actual_weight', 'win_odds', 'result']] \n",
    "\n",
    "# Remove any NaN results in the data\n",
    "print(runs_df[runs_df.isnull().any(axis=1)])\n",
    "runs_df = runs_df.dropna()\n",
    "\n",
    "# Clean odd data in draw column\n",
    "strange_draw_index = runs_df[runs_df['draw'] > 14].index\n",
    "runs_df = runs_df.drop(strange_draw_index)\n",
    "\n",
    "# encode nominal columns: horse_country, horse_type\n",
    "horse_country_encoder = preprocessing.LabelEncoder()\n",
    "runs_df['horse_country'] = horse_country_encoder.fit_transform(runs_df['horse_country'])\n",
    "horse_type_encoder = preprocessing.LabelEncoder()\n",
    "runs_df['horse_type'] = horse_type_encoder.fit_transform(runs_df['horse_type'])"
   ]
  }
 ],
 "metadata": {
  "kernelspec": {
   "display_name": "Python 3",
   "language": "python",
   "name": "python3"
  },
  "language_info": {
   "codemirror_mode": {
    "name": "ipython",
    "version": 3
   },
   "file_extension": ".py",
   "mimetype": "text/x-python",
   "name": "python",
   "nbconvert_exporter": "python",
   "pygments_lexer": "ipython3",
   "version": "3.9.7"
  },
  "orig_nbformat": 4
 },
 "nbformat": 4,
 "nbformat_minor": 2
}
