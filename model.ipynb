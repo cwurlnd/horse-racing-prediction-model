{
 "cells": [
  {
   "cell_type": "code",
   "execution_count": 28,
   "metadata": {},
   "outputs": [
    {
     "name": "stdout",
     "output_type": "stream",
     "text": [
      "Empty DataFrame\n",
      "Columns: [venue, config, surface, distance, going, race_class]\n",
      "Index: []\n"
     ]
    }
   ],
   "source": [
    "# Import necessary libraries\n",
    "import pandas as pd\n",
    "import numpy as np\n",
    "import tensorflow as tf\n",
    "import sklearn.preprocessing as preprocessing\n",
    "import sklearn.model_selection as model_selection\n",
    "import matplotlib.pyplot as plt\n",
    "\n",
    "# Create DataFrame from data obtained from Kaggle\n",
    "races = pd.read_csv(r\"races.csv\", delimiter=\",\", header=0, index_col='race_id')\n",
    "races = races[['venue', 'config', 'surface', 'distance', 'going', 'race_class']]\n",
    "\n",
    "# Remove any NaN results in the data\n",
    "print(races[races.isnull().any(axis=1)])\n",
    "races = races.dropna()"
   ]
  },
  {
   "cell_type": "code",
   "execution_count": 29,
   "metadata": {},
   "outputs": [],
   "source": [
    "# For the columns that are strings, change them to numbers, so the model can appropriately be trained\n",
    "\n",
    "de = preprocessing.OrdinalEncoder()\n",
    "races['config'] = de.fit_transform(races['config'].values.reshape(-1, 1))\n",
    "ge = preprocessing.OrdinalEncoder()\n",
    "races['going'] = ge.fit_transform(races['going'].values.reshape(-1, 1))\n",
    "ve = preprocessing.LabelEncoder()\n",
    "races['venue'] = ve.fit_transform(races['venue'])"
   ]
  },
  {
   "cell_type": "code",
   "execution_count": 30,
   "metadata": {},
   "outputs": [
    {
     "name": "stdout",
     "output_type": "stream",
     "text": [
      "     race_id  draw  horse_age horse_country horse_type  horse_rating  \\\n",
      "182       13    12          3           NaN        NaN            60   \n",
      "846       69     1          3           NaN        NaN            60   \n",
      "\n",
      "     declared_weight  actual_weight  win_odds  result  \n",
      "182           1107.0            120      28.0       5  \n",
      "846           1105.0            119      14.0      11  \n"
     ]
    }
   ],
   "source": [
    "# Essentially do the same as above, but with the runs.csv\n",
    "\n",
    "# Create DataFrame from data obtained from Kaggle\n",
    "runs = pd.read_csv(r\"runs.csv\", delimiter=\",\", header=0)\n",
    "runs = runs[['race_id', 'draw', 'horse_age', 'horse_country', 'horse_type', 'horse_rating', 'declared_weight', 'actual_weight', 'win_odds', 'result']] \n",
    "\n",
    "# Remove any NaN results in the data\n",
    "print(runs[runs.isnull().any(axis=1)])\n",
    "runs = runs.dropna()\n",
    "\n",
    "# Clean odd data in draw column\n",
    "badDraw = runs[runs['draw'] > 14].index\n",
    "runs = runs.drop(badDraw)\n",
    "\n",
    "# For the columns that are strings, change them to numbers, so the model can appropriately be trained\n",
    "hce = preprocessing.LabelEncoder()\n",
    "runs['horse_country'] = hce.fit_transform(runs['horse_country'])\n",
    "hte = preprocessing.LabelEncoder()\n",
    "runs['horse_type'] = hte.fit_transform(runs['horse_type'])"
   ]
  },
  {
   "cell_type": "code",
   "execution_count": 31,
   "metadata": {},
   "outputs": [],
   "source": [
    "# Function to sort columns\n",
    "def group_horse_and_result(element):\n",
    "    if element[0] == 'result':\n",
    "        return 100 + element[1]\n",
    "    else:\n",
    "        return element[1]   \n",
    "    \n",
    "# Adjust columns to group by horse and result\n",
    "runs = runs.pivot(index='race_id', columns='draw', values=runs.columns[2:])\n",
    "rearranged_columns = sorted(list(runs.columns.values), key=group_horse_and_result)\n",
    "runs = runs[rearranged_columns]\n",
    "\n",
    "# Fill NaNs with 0\n",
    "runs = runs.fillna(0)"
   ]
  },
  {
   "cell_type": "code",
   "execution_count": 34,
   "metadata": {},
   "outputs": [
    {
     "name": "stderr",
     "output_type": "stream",
     "text": [
      "/var/folders/72/rbs9hp2j0vn0cpwjzw2vvdch0000gn/T/ipykernel_52737/1014520156.py:2: FutureWarning: merging between different levels is deprecated and will be removed in a future version. (1 levels on the left, 2 on the right)\n",
      "  data = races.join(runs, on='race_id', how='right')\n"
     ]
    }
   ],
   "source": [
    "# Join the dataframes\n",
    "data = races.join(runs, on='race_id', how='right')\n",
    "X = data[data.columns[:-14]] \n",
    "\n",
    "# Flatten column names\n",
    "X.columns = [f'{col[0]}, {col[1]}' for col in X.columns]\n",
    "\n",
    "# Standardize the data\n",
    "ss = preprocessing.StandardScaler()\n",
    "X = pd.DataFrame(ss.fit_transform(X), columns=X.columns)\n",
    "\n",
    "# Find the winner of each race\n",
    "y_won = data[data.columns[-14:]].applymap(lambda x: 1.0 if 0.5 < x < 1.5 else 0.0) \n",
    "\n",
    "# Train sets\n",
    "X_train, X_test, y_train, y_test = model_selection.train_test_split(X, y_won, train_size=0.8, test_size=0.2, random_state=1)"
   ]
  },
  {
   "cell_type": "code",
   "execution_count": null,
   "metadata": {},
   "outputs": [],
   "source": []
  }
 ],
 "metadata": {
  "kernelspec": {
   "display_name": "Python 3",
   "language": "python",
   "name": "python3"
  },
  "language_info": {
   "codemirror_mode": {
    "name": "ipython",
    "version": 3
   },
   "file_extension": ".py",
   "mimetype": "text/x-python",
   "name": "python",
   "nbconvert_exporter": "python",
   "pygments_lexer": "ipython3",
   "version": "3.9.7"
  },
  "orig_nbformat": 4
 },
 "nbformat": 4,
 "nbformat_minor": 2
}
