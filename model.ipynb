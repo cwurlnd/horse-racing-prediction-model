{
 "cells": [
  {
   "cell_type": "code",
   "execution_count": 20,
   "metadata": {},
   "outputs": [
    {
     "name": "stdout",
     "output_type": "stream",
     "text": [
      "Empty DataFrame\n",
      "Columns: [venue, config, surface, distance, going, race_class]\n",
      "Index: []\n"
     ]
    }
   ],
   "source": [
    "# Import necessary libraries\n",
    "import pandas as pd\n",
    "import numpy as np\n",
    "import tensorflow as tf\n",
    "import sklearn.preprocessing as preprocessing\n",
    "import sklearn.model_selection as model_selection\n",
    "import matplotlib.pyplot as plt\n",
    "\n",
    "# Create DataFrame from data obtained from Kaggle\n",
    "races = pd.read_csv(r\"races.csv\", delimiter=\",\", header=0, index_col='race_id')\n",
    "races = races[['venue', 'config', 'surface', 'distance', 'going', 'race_class']]\n",
    "\n",
    "# Remove any NaN results in the data\n",
    "print(races[races.isnull().any(axis=1)])\n",
    "races = races.dropna()"
   ]
  },
  {
   "cell_type": "code",
   "execution_count": 21,
   "metadata": {},
   "outputs": [],
   "source": [
    "# For the columns that are strings, change them to numbers, so the model can appropriately be trained\n",
    "\n",
    "de = preprocessing.OrdinalEncoder()\n",
    "races['config'] = de.fit_transform(races['config'].values.reshape(-1, 1))\n",
    "ge = preprocessing.OrdinalEncoder()\n",
    "races['going'] = ge.fit_transform(races['going'].values.reshape(-1, 1))\n",
    "ve = preprocessing.LabelEncoder()\n",
    "races['venue'] = ve.fit_transform(races['venue'])"
   ]
  },
  {
   "cell_type": "code",
   "execution_count": 22,
   "metadata": {},
   "outputs": [
    {
     "name": "stdout",
     "output_type": "stream",
     "text": [
      "     race_id  draw  horse_age horse_country horse_type  horse_rating  \\\n",
      "182       13    12          3           NaN        NaN            60   \n",
      "846       69     1          3           NaN        NaN            60   \n",
      "\n",
      "     declared_weight  actual_weight  win_odds  result  \n",
      "182           1107.0            120      28.0       5  \n",
      "846           1105.0            119      14.0      11  \n"
     ]
    }
   ],
   "source": [
    "# Essentially do the same as above, but with the runs.csv\n",
    "\n",
    "# Create DataFrame from data obtained from Kaggle\n",
    "runs = pd.read_csv(r\"runs.csv\", delimiter=\",\", header=0)\n",
    "runs = runs[['race_id', 'draw', 'horse_age', 'horse_country', 'horse_type', 'horse_rating', 'declared_weight', 'actual_weight', 'win_odds', 'result']] \n",
    "\n",
    "# Remove any NaN results in the data\n",
    "print(runs[runs.isnull().any(axis=1)])\n",
    "runs = runs.dropna()\n",
    "\n",
    "# Clean odd data in draw column\n",
    "badDraw = runs[runs['draw'] > 14].index\n",
    "runs = runs.drop(badDraw)\n",
    "\n",
    "# For the columns that are strings, change them to numbers, so the model can appropriately be trained\n",
    "hce = preprocessing.LabelEncoder()\n",
    "runs['horse_country'] = hce.fit_transform(runs['horse_country'])\n",
    "hte = preprocessing.LabelEncoder()\n",
    "runs['horse_type'] = hte.fit_transform(runs['horse_type'])"
   ]
  },
  {
   "cell_type": "code",
   "execution_count": 23,
   "metadata": {},
   "outputs": [
    {
     "name": "stdout",
     "output_type": "stream",
     "text": [
      "        horse_age horse_country horse_type horse_rating declared_weight  \\\n",
      "draw           1             1          1            1               1    \n",
      "race_id                                                                   \n",
      "0             3.0          14.0        3.0         60.0          1089.0   \n",
      "1             3.0           1.0        3.0         60.0          1059.0   \n",
      "2             3.0           1.0        3.0         60.0          1028.0   \n",
      "3             3.0          14.0        5.0         60.0          1074.0   \n",
      "4             3.0          11.0        3.0         60.0           988.0   \n",
      "...           ...           ...        ...          ...             ...   \n",
      "6344          3.0           1.0        3.0        100.0          1134.0   \n",
      "6345          5.0          11.0        3.0        119.0          1164.0   \n",
      "6346          4.0          10.0        5.0        100.0          1134.0   \n",
      "6347          4.0          11.0        3.0         81.0          1124.0   \n",
      "6348          5.0          11.0        3.0         83.0          1148.0   \n",
      "\n",
      "        actual_weight win_odds horse_age horse_country horse_type  ... result  \\\n",
      "draw               1        1         2             2          2   ...     5    \n",
      "race_id                                                            ...          \n",
      "0               120.0      5.4       3.0           1.0        3.0  ...    3.0   \n",
      "1               121.0     10.0       3.0          11.0        3.0  ...    8.0   \n",
      "2               116.0     45.0       3.0          11.0        3.0  ...   14.0   \n",
      "3               115.0      2.9       3.0          11.0        3.0  ...    3.0   \n",
      "4               106.0     31.0       3.0          11.0        3.0  ...   14.0   \n",
      "...               ...      ...       ...           ...        ...  ...    ...   \n",
      "6344            119.0      4.8       6.0          14.0        3.0  ...    7.0   \n",
      "6345            126.0     51.0       3.0          10.0        5.0  ...    2.0   \n",
      "6346            126.0      8.6       3.0          10.0        5.0  ...   11.0   \n",
      "6347            116.0     42.0       4.0           1.0        3.0  ...   10.0   \n",
      "6348            120.0     99.0       3.0           8.0        3.0  ...    1.0   \n",
      "\n",
      "                                                               \n",
      "draw       6     7     8     9     10    11    12    13    14  \n",
      "race_id                                                        \n",
      "0        13.0  10.0   7.0  14.0   4.0  12.0   8.0   9.0   6.0  \n",
      "1         2.0   5.0  10.0  12.0   1.0   3.0   9.0  14.0  13.0  \n",
      "2         6.0   4.0   7.0   9.0  10.0   5.0  11.0   3.0  12.0  \n",
      "3        11.0   8.0   9.0   6.0  12.0   2.0  10.0   NaN   NaN  \n",
      "4         6.0   2.0   8.0  10.0  13.0   7.0   4.0  11.0  12.0  \n",
      "...       ...   ...   ...   ...   ...   ...   ...   ...   ...  \n",
      "6344      4.0   3.0   5.0   1.0   8.0   NaN   NaN   NaN   NaN  \n",
      "6345      4.0  10.0   7.0   9.0  11.0   3.0  13.0   1.0   6.0  \n",
      "6346      8.0   3.0   1.0   7.0   6.0   9.0  12.0   NaN   NaN  \n",
      "6347      3.0   8.0   4.0   2.0   6.0   1.0  14.0   7.0   9.0  \n",
      "6348      6.0  12.0   3.0   9.0  13.0   4.0   8.0  14.0   5.0  \n",
      "\n",
      "[6348 rows x 112 columns]\n"
     ]
    }
   ],
   "source": [
    "# Function to sort columns\n",
    "def group_horse_and_result(element):\n",
    "    if element[0] == 'result':\n",
    "        return 100 + element[1]\n",
    "    else:\n",
    "        return element[1]   \n",
    "    \n",
    "# Adjust columns to group by horse and result\n",
    "runs = runs.pivot(index='race_id', columns='draw', values=runs.columns[2:])\n",
    "rearranged_columns = sorted(list(runs.columns.values), key=group_horse_and_result)\n",
    "runs = runs[rearranged_columns]\n",
    "\n",
    "# Fill NaNs with 0\n",
    "runs = runs.fillna(0)"
   ]
  }
 ],
 "metadata": {
  "kernelspec": {
   "display_name": "Python 3",
   "language": "python",
   "name": "python3"
  },
  "language_info": {
   "codemirror_mode": {
    "name": "ipython",
    "version": 3
   },
   "file_extension": ".py",
   "mimetype": "text/x-python",
   "name": "python",
   "nbconvert_exporter": "python",
   "pygments_lexer": "ipython3",
   "version": "3.9.7"
  },
  "orig_nbformat": 4
 },
 "nbformat": 4,
 "nbformat_minor": 2
}
