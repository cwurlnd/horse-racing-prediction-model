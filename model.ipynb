{
 "cells": [
  {
   "cell_type": "code",
   "execution_count": 16,
   "metadata": {},
   "outputs": [
    {
     "name": "stdout",
     "output_type": "stream",
     "text": [
      "Empty DataFrame\n",
      "Columns: [venue, config, surface, distance, going, race_class]\n",
      "Index: []\n"
     ]
    }
   ],
   "source": [
    "# Import necessary libraries\n",
    "import pandas as pd\n",
    "import numpy as np\n",
    "import tensorflow as tf\n",
    "import sklearn.preprocessing as preprocessing\n",
    "import sklearn.model_selection as model_selection\n",
    "import matplotlib.pyplot as plt\n",
    "\n",
    "# Create DataFrame from data obtained from Kaggle\n",
    "races = pd.read_csv(r\"races.csv\", delimiter=\",\", header=0, index_col='race_id')\n",
    "races = races[['venue', 'config', 'surface', 'distance', 'going', 'race_class']]\n",
    "\n",
    "# Remove any NaN results in the data\n",
    "print(races[races.isnull().any(axis=1)])\n",
    "races = races.dropna()"
   ]
  },
  {
   "cell_type": "code",
   "execution_count": 17,
   "metadata": {},
   "outputs": [],
   "source": [
    "# For the columns that are strings, change them to numbers, so the model can appropriately be trained\n",
    "\n",
    "de = preprocessing.OrdinalEncoder()\n",
    "races['config'] = de.fit_transform(races['config'].values.reshape(-1, 1))\n",
    "ge = preprocessing.OrdinalEncoder()\n",
    "races['going'] = ge.fit_transform(races['going'].values.reshape(-1, 1))\n",
    "ve = preprocessing.LabelEncoder()\n",
    "races['venue'] = ve.fit_transform(races['venue'])"
   ]
  },
  {
   "cell_type": "code",
   "execution_count": 18,
   "metadata": {},
   "outputs": [
    {
     "name": "stdout",
     "output_type": "stream",
     "text": [
      "     race_id  draw  horse_age horse_country horse_type  horse_rating  \\\n",
      "182       13    12          3           NaN        NaN            60   \n",
      "846       69     1          3           NaN        NaN            60   \n",
      "\n",
      "     declared_weight  actual_weight  win_odds  result  \n",
      "182           1107.0            120      28.0       5  \n",
      "846           1105.0            119      14.0      11  \n"
     ]
    }
   ],
   "source": [
    "# Essentially do the same as above, but with the runs.csv\n",
    "\n",
    "# Create DataFrame from data obtained from Kaggle\n",
    "runs = pd.read_csv(r\"runs.csv\", delimiter=\",\", header=0)\n",
    "runs = runs[['race_id', 'draw', 'horse_age', 'horse_country', 'horse_type', 'horse_rating', 'declared_weight', 'actual_weight', 'win_odds', 'result']] \n",
    "\n",
    "# Remove any NaN results in the data\n",
    "print(runs[runs.isnull().any(axis=1)])\n",
    "runs = runs.dropna()\n",
    "\n",
    "# Clean odd data in draw column\n",
    "badDraw = runs[runs['draw'] > 14].index\n",
    "runs = runs.drop(badDraw)\n",
    "\n",
    "# For the columns that are strings, change them to numbers, so the model can appropriately be trained\n",
    "hce = preprocessing.LabelEncoder()\n",
    "runs['horse_country'] = hce.fit_transform(runs['horse_country'])\n",
    "hte = preprocessing.LabelEncoder()\n",
    "runs['horse_type'] = hte.fit_transform(runs['horse_type'])"
   ]
  },
  {
   "cell_type": "code",
   "execution_count": null,
   "metadata": {},
   "outputs": [],
   "source": []
  }
 ],
 "metadata": {
  "kernelspec": {
   "display_name": "Python 3",
   "language": "python",
   "name": "python3"
  },
  "language_info": {
   "codemirror_mode": {
    "name": "ipython",
    "version": 3
   },
   "file_extension": ".py",
   "mimetype": "text/x-python",
   "name": "python",
   "nbconvert_exporter": "python",
   "pygments_lexer": "ipython3",
   "version": "3.9.7"
  },
  "orig_nbformat": 4
 },
 "nbformat": 4,
 "nbformat_minor": 2
}
