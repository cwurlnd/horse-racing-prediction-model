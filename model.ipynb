{
 "cells": [
  {
   "cell_type": "code",
   "execution_count": 9,
   "metadata": {},
   "outputs": [],
   "source": [
    "import pandas as pd\n",
    "import numpy as np\n",
    "import tensorflow as tf\n",
    "import sklearn.preprocessing as preprocessing\n",
    "import sklearn.model_selection as model_selection\n",
    "import matplotlib.pyplot as plt\n",
    "\n",
    "races_df = pd.read_csv(r\"races.csv\", delimiter=\",\", header=0, index_col='race_id')\n",
    "races_df = races_df[['venue', 'config', 'surface', 'distance', 'going', 'race_class']]"
   ]
  },
  {
   "cell_type": "code",
   "execution_count": 10,
   "metadata": {},
   "outputs": [
    {
     "name": "stdout",
     "output_type": "stream",
     "text": [
      "        venue config  surface  distance         going  race_class\n",
      "race_id                                                          \n",
      "0          ST      A        0      1400  GOOD TO FIRM           5\n",
      "1          ST      A        0      1200  GOOD TO FIRM           5\n",
      "2          ST      A        0      1400  GOOD TO FIRM           4\n",
      "3          ST      A        0      1200  GOOD TO FIRM           1\n",
      "4          ST      A        0      1600  GOOD TO FIRM           4\n",
      "...       ...    ...      ...       ...           ...         ...\n",
      "6344       ST      A        0      1400          GOOD           1\n",
      "6345       ST      A        0      1600          GOOD          11\n",
      "6346       ST      A        0      2000          GOOD          11\n",
      "6347       ST      A        0      1200          GOOD           2\n",
      "6348       ST      A        0      1600          GOOD           2\n",
      "\n",
      "[6349 rows x 6 columns]\n"
     ]
    }
   ],
   "source": [
    "print(races_df)"
   ]
  },
  {
   "cell_type": "code",
   "execution_count": null,
   "metadata": {},
   "outputs": [],
   "source": []
  }
 ],
 "metadata": {
  "kernelspec": {
   "display_name": "Python 3",
   "language": "python",
   "name": "python3"
  },
  "language_info": {
   "codemirror_mode": {
    "name": "ipython",
    "version": 3
   },
   "file_extension": ".py",
   "mimetype": "text/x-python",
   "name": "python",
   "nbconvert_exporter": "python",
   "pygments_lexer": "ipython3",
   "version": "3.9.7"
  },
  "orig_nbformat": 4
 },
 "nbformat": 4,
 "nbformat_minor": 2
}
